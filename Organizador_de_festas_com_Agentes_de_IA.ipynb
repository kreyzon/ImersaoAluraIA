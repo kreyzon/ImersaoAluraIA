{
  "nbformat": 4,
  "nbformat_minor": 0,
  "metadata": {
    "colab": {
      "provenance": [],
      "include_colab_link": true
    },
    "kernelspec": {
      "name": "python3",
      "display_name": "Python 3"
    },
    "language_info": {
      "name": "python"
    }
  },
  "cells": [
    {
      "cell_type": "markdown",
      "metadata": {
        "id": "view-in-github",
        "colab_type": "text"
      },
      "source": [
        "<a href=\"https://colab.research.google.com/github/kreyzon/ImersaoAluraIA/blob/main/Organizador_de_festas_com_Agentes_de_IA.ipynb\" target=\"_parent\"><img src=\"https://colab.research.google.com/assets/colab-badge.svg\" alt=\"Open In Colab\"/></a>"
      ]
    },
    {
      "cell_type": "code",
      "source": [
        "%pip -q install google-genai"
      ],
      "metadata": {
        "id": "UCCbECexLk_h"
      },
      "execution_count": 2,
      "outputs": []
    },
    {
      "cell_type": "code",
      "source": [
        "# Configura a API Key do Google Gemini\n",
        "\n",
        "import os\n",
        "from google.colab import userdata\n",
        "\n",
        "os.environ[\"GOOGLE_API_KEY\"] = userdata.get('GOOGLE_API_KEY')"
      ],
      "metadata": {
        "id": "NfCqHo1tLk8P"
      },
      "execution_count": 3,
      "outputs": []
    },
    {
      "cell_type": "code",
      "source": [
        "# Configura o cliente da SDK do Gemini\n",
        "\n",
        "from google import genai\n",
        "\n",
        "client = genai.Client()\n",
        "# para consultar outras opções de modelo\n",
        "# for model in client.models.list():\n",
        "#   print(model.name)\n",
        "MODEL_SIMPLES = \"gemini-2.0-flash\"\n",
        "MODEL_COMPLETO = \"gemini-2.5-pro-exp-03-25\""
      ],
      "metadata": {
        "id": "bV4w0H5TLk5g"
      },
      "execution_count": 4,
      "outputs": []
    },
    {
      "cell_type": "code",
      "source": [
        "# Instalar Framework de agentes do Google ################################################\n",
        "!pip install -q google-adk"
      ],
      "metadata": {
        "id": "a1eRPalxEnj7",
        "colab": {
          "base_uri": "https://localhost:8080/"
        },
        "outputId": "3333314c-7546-402b-efdd-7ef0a9432e31",
        "collapsed": true
      },
      "execution_count": 5,
      "outputs": [
        {
          "output_type": "stream",
          "name": "stdout",
          "text": [
            "\u001b[?25l   \u001b[90m━━━━━━━━━━━━━━━━━━━━━━━━━━━━━━━━━━━━━━━━\u001b[0m \u001b[32m0.0/1.2 MB\u001b[0m \u001b[31m?\u001b[0m eta \u001b[36m-:--:--\u001b[0m\r\u001b[2K   \u001b[91m━━━━━━━━━━━━━━━━━━━━━━━━━━━━━━\u001b[0m\u001b[90m╺\u001b[0m\u001b[90m━━━━━━━━━\u001b[0m \u001b[32m0.9/1.2 MB\u001b[0m \u001b[31m29.6 MB/s\u001b[0m eta \u001b[36m0:00:01\u001b[0m\r\u001b[2K   \u001b[90m━━━━━━━━━━━━━━━━━━━━━━━━━━━━━━━━━━━━━━━━\u001b[0m \u001b[32m1.2/1.2 MB\u001b[0m \u001b[31m19.1 MB/s\u001b[0m eta \u001b[36m0:00:00\u001b[0m\n",
            "\u001b[?25h\u001b[?25l   \u001b[90m━━━━━━━━━━━━━━━━━━━━━━━━━━━━━━━━━━━━━━━━\u001b[0m \u001b[32m0.0/232.1 kB\u001b[0m \u001b[31m?\u001b[0m eta \u001b[36m-:--:--\u001b[0m\r\u001b[2K   \u001b[90m━━━━━━━━━━━━━━━━━━━━━━━━━━━━━━━━━━━━━━━━\u001b[0m \u001b[32m232.1/232.1 kB\u001b[0m \u001b[31m16.1 MB/s\u001b[0m eta \u001b[36m0:00:00\u001b[0m\n",
            "\u001b[?25h\u001b[?25l   \u001b[90m━━━━━━━━━━━━━━━━━━━━━━━━━━━━━━━━━━━━━━━━\u001b[0m \u001b[32m0.0/95.2 kB\u001b[0m \u001b[31m?\u001b[0m eta \u001b[36m-:--:--\u001b[0m\r\u001b[2K   \u001b[90m━━━━━━━━━━━━━━━━━━━━━━━━━━━━━━━━━━━━━━━━\u001b[0m \u001b[32m95.2/95.2 kB\u001b[0m \u001b[31m7.6 MB/s\u001b[0m eta \u001b[36m0:00:00\u001b[0m\n",
            "\u001b[2K   \u001b[90m━━━━━━━━━━━━━━━━━━━━━━━━━━━━━━━━━━━━━━━━\u001b[0m \u001b[32m217.1/217.1 kB\u001b[0m \u001b[31m16.0 MB/s\u001b[0m eta \u001b[36m0:00:00\u001b[0m\n",
            "\u001b[2K   \u001b[90m━━━━━━━━━━━━━━━━━━━━━━━━━━━━━━━━━━━━━━━━\u001b[0m \u001b[32m334.1/334.1 kB\u001b[0m \u001b[31m20.5 MB/s\u001b[0m eta \u001b[36m0:00:00\u001b[0m\n",
            "\u001b[2K   \u001b[90m━━━━━━━━━━━━━━━━━━━━━━━━━━━━━━━━━━━━━━━━\u001b[0m \u001b[32m125.1/125.1 kB\u001b[0m \u001b[31m8.3 MB/s\u001b[0m eta \u001b[36m0:00:00\u001b[0m\n",
            "\u001b[2K   \u001b[90m━━━━━━━━━━━━━━━━━━━━━━━━━━━━━━━━━━━━━━━━\u001b[0m \u001b[32m65.8/65.8 kB\u001b[0m \u001b[31m4.2 MB/s\u001b[0m eta \u001b[36m0:00:00\u001b[0m\n",
            "\u001b[2K   \u001b[90m━━━━━━━━━━━━━━━━━━━━━━━━━━━━━━━━━━━━━━━━\u001b[0m \u001b[32m119.0/119.0 kB\u001b[0m \u001b[31m3.9 MB/s\u001b[0m eta \u001b[36m0:00:00\u001b[0m\n",
            "\u001b[2K   \u001b[90m━━━━━━━━━━━━━━━━━━━━━━━━━━━━━━━━━━━━━━━━\u001b[0m \u001b[32m194.9/194.9 kB\u001b[0m \u001b[31m11.1 MB/s\u001b[0m eta \u001b[36m0:00:00\u001b[0m\n",
            "\u001b[2K   \u001b[90m━━━━━━━━━━━━━━━━━━━━━━━━━━━━━━━━━━━━━━━━\u001b[0m \u001b[32m62.5/62.5 kB\u001b[0m \u001b[31m3.5 MB/s\u001b[0m eta \u001b[36m0:00:00\u001b[0m\n",
            "\u001b[2K   \u001b[90m━━━━━━━━━━━━━━━━━━━━━━━━━━━━━━━━━━━━━━━━\u001b[0m \u001b[32m103.3/103.3 kB\u001b[0m \u001b[31m6.3 MB/s\u001b[0m eta \u001b[36m0:00:00\u001b[0m\n",
            "\u001b[2K   \u001b[90m━━━━━━━━━━━━━━━━━━━━━━━━━━━━━━━━━━━━━━━━\u001b[0m \u001b[32m44.4/44.4 kB\u001b[0m \u001b[31m2.8 MB/s\u001b[0m eta \u001b[36m0:00:00\u001b[0m\n",
            "\u001b[2K   \u001b[90m━━━━━━━━━━━━━━━━━━━━━━━━━━━━━━━━━━━━━━━━\u001b[0m \u001b[32m72.0/72.0 kB\u001b[0m \u001b[31m4.2 MB/s\u001b[0m eta \u001b[36m0:00:00\u001b[0m\n",
            "\u001b[?25h"
          ]
        }
      ]
    },
    {
      "cell_type": "code",
      "execution_count": 6,
      "metadata": {
        "id": "aePV2bdfDeoW"
      },
      "outputs": [],
      "source": [
        "from google.adk.agents import Agent\n",
        "from google.adk.runners import Runner\n",
        "from google.adk.sessions import InMemorySessionService\n",
        "from google.adk.tools import google_search\n",
        "from google.genai import types  # Para criar conteúdos (Content e Part)\n",
        "from datetime import date\n",
        "import textwrap # Para formatar melhor a saída de texto\n",
        "from IPython.display import display, Markdown # Para exibir texto formatado no Colab\n",
        "import requests # Para fazer requisições HTTP\n",
        "import json\n",
        "import warnings\n",
        "\n",
        "warnings.filterwarnings(\"ignore\")"
      ]
    },
    {
      "cell_type": "code",
      "source": [
        "# Função auxiliar que envia uma mensagem para um agente via Runner e retorna a resposta final\n",
        "def call_agent(agent: Agent, message_text: str) -> str:\n",
        "    # Cria um serviço de sessão em memória\n",
        "    session_service = InMemorySessionService()\n",
        "    # Cria uma nova sessão (você pode personalizar os IDs conforme necessário)\n",
        "    session = session_service.create_session(app_name=agent.name, user_id=\"user1\", session_id=\"session1\")\n",
        "    # Cria um Runner para o agente\n",
        "    runner = Runner(agent=agent, app_name=agent.name, session_service=session_service)\n",
        "    # Cria o conteúdo da mensagem de entrada\n",
        "    content = types.Content(role=\"user\", parts=[types.Part(text=message_text)])\n",
        "\n",
        "    final_response = \"\"\n",
        "    # Itera assincronamente pelos eventos retornados durante a execução do agente\n",
        "    for event in runner.run(user_id=\"user1\", session_id=\"session1\", new_message=content):\n",
        "        if event.is_final_response():\n",
        "          for part in event.content.parts:\n",
        "            if part.text is not None:\n",
        "              final_response += part.text\n",
        "              final_response += \"\\n\"\n",
        "    return final_response"
      ],
      "metadata": {
        "id": "_xP4lWhsS5ko"
      },
      "execution_count": 7,
      "outputs": []
    },
    {
      "cell_type": "code",
      "source": [
        "# Função auxiliar para exibir texto formatado em Markdown no Colab\n",
        "def to_markdown(text):\n",
        "  text = text.replace('•', '  *')\n",
        "  return Markdown(textwrap.indent(text, '> ', predicate=lambda _: True))"
      ],
      "metadata": {
        "id": "8dosiodaxfFR"
      },
      "execution_count": 8,
      "outputs": []
    },
    {
      "cell_type": "code",
      "source": [
        "##########################################\n",
        "# --- Agente 1: Stakeholder --- #\n",
        "##########################################\n",
        "def agente_cliente(tipo_evento):\n",
        "\n",
        "    cliente = Agent(\n",
        "        name=\"agente_cliente\",\n",
        "        model=MODEL_SIMPLES,\n",
        "        instruction=\"\"\"\n",
        "        Você é um cliente de uma empresa que organiza eventos, sendo assim você cria um evento específico como uma festa de casamento, aniversário ou team building.\n",
        "        Para criar um evento, você deve indicar de forma aleatoria uma data futura de até um mês a frente, qual o horário e uma quantidade de convidados.\n",
        "        O tipo de evento será informado a seguir.\n",
        "        \"\"\",\n",
        "        description=\"Agente que cria uma demanda para uma equipe de desenvolvimento\"\n",
        "    )\n",
        "\n",
        "    entrada_do_agente_cliente = f\"Problema principal: {tipo_evento}\"\n",
        "\n",
        "    detalhes_evento = call_agent(cliente, entrada_do_agente_cliente)\n",
        "    return detalhes_evento"
      ],
      "metadata": {
        "id": "o8bqIfi_DyH8"
      },
      "execution_count": 9,
      "outputs": []
    },
    {
      "cell_type": "code",
      "source": [
        "### teste do agente cliente\n",
        "# tipo_evento = \"Casamento no Porto\"\n",
        "# detalhes_evento = agente_cliente(tipo_evento)\n",
        "# print(\"\\n--- 📝 Resultado do cliente ---\\n\")\n",
        "# display(to_markdown(detalhes_evento))"
      ],
      "metadata": {
        "colab": {
          "base_uri": "https://localhost:8080/",
          "height": 173
        },
        "id": "88MZsLkUr3-x",
        "outputId": "da69613b-6fef-49cf-aeeb-a2948b3ecc84"
      },
      "execution_count": 38,
      "outputs": [
        {
          "output_type": "stream",
          "name": "stdout",
          "text": [
            "\n",
            "--- 📝 Resultado do cliente ---\n",
            "\n"
          ]
        },
        {
          "output_type": "display_data",
          "data": {
            "text/plain": [
              "<IPython.core.display.Markdown object>"
            ],
            "text/markdown": "> Ótimo! Para o casamento no Porto, vamos aos detalhes:\n> \n> *   **Data:** 18 de Julho de 2024 (uma quinta-feira)\n> *   **Horário:** 16:00\n> *   **Número de Convidados:** 150\n"
          },
          "metadata": {}
        }
      ]
    },
    {
      "cell_type": "code",
      "source": [
        "################################################\n",
        "# --- Agente 2: Auxiliar Administrativo --- #\n",
        "################################################\n",
        "def agente_aux_adm(tipo_evento, detalhes_evento):\n",
        "    aux_adm = Agent(\n",
        "        name=\"agente_aux_adm\",\n",
        "        model=MODEL_SIMPLES,\n",
        "        instruction=\"\"\"\n",
        "        Você é um auxiliar administrativo de uma empresa que organiza diversos tipos de eventos e é responsável por receber os pedidos dos clientes.\n",
        "        Sua função vai ser consultar na internet através da ferramenta de busca do google (google_search) para descobrir o que é necessário para o evento acontecer.\n",
        "        Exemplos do que deve ser levado em conta para isso:\n",
        "        - festas de casamentos precisam de um local com salão grande ou que seja open space, mesas e cadeiras, decoração com flores, um bolo de casamento, aperetivos, bebidas alcoolicas e não-alcoolicas, e um DJ.\n",
        "        - festas de aniversários para menores de idades precisam de um local fechado, mesas e cadeiras, bolo de aniversário, aperetivos, bebidas não-alcoolicas e um DJ.\n",
        "        - team building precisam de um local open space, mesas e cadeira, aperetivos, bebidas alcoolicas e não-alcoolicas.\n",
        "\n",
        "        Devolva a resposta em formato que pode ser utilizado com array do python e a saída deve conter estritamente apenas a estrutura de dados do python e que siga o JSON schema a seguir\n",
        "\n",
        "        {\n",
        "          \"$schema\": \"http://json-schema.org/draft-07/schema#\",\n",
        "          \"title\": \"Evento de Casamento\",\n",
        "          \"description\": \"Schema para descrever detalhes de um evento de casamento, incluindo elementos essenciais.\",\n",
        "          \"type\": \"object\",\n",
        "          \"properties\": {\n",
        "            \"Tipo de Evento\": {\n",
        "              \"type\": \"string\",\n",
        "              \"description\": \"O tipo do evento, por exemplo, 'Casamento'.\"\n",
        "            },\n",
        "            \"Localização\": {\n",
        "              \"type\": \"string\",\n",
        "              \"description\": \"A localização do evento (cidade e país).\"\n",
        "            },\n",
        "            \"Data\": {\n",
        "              \"type\": \"string\",\n",
        "              \"description\": \"A data do evento.\"\n",
        "            },\n",
        "            \"Horário\": {\n",
        "              \"type\": \"string\",\n",
        "              \"description\": \"O horário do evento.\"\n",
        "            },\n",
        "            \"Número de Convidados\": {\n",
        "              \"type\": \"integer\",\n",
        "              \"description\": \"O número estimado de convidados.\"\n",
        "              // Podemos adicionar \"minimum\": 0 se for o caso, mas para este exemplo não é estritamente necessário com base nos dados fornecidos.\n",
        "            },\n",
        "            \"Elementos Essenciais\": {\n",
        "              \"type\": \"array\",\n",
        "              \"description\": \"Uma lista dos elementos essenciais necessários para o evento.\",\n",
        "              \"items\": {\n",
        "                \"type\": \"object\",\n",
        "                \"properties\": {\n",
        "                  \"Categoria\": {\n",
        "                    \"type\": \"string\",\n",
        "                    \"description\": \"A categoria do elemento essencial (ex: 'Local/Espaço para Casamento', 'Catering').\"\n",
        "                  },\n",
        "                  \"Necessidades\": {\n",
        "                    \"type\": \"array\",\n",
        "                    \"description\": \"Uma lista de necessidades ou opções específicas dentro desta categoria.\",\n",
        "                    \"items\": {\n",
        "                      \"type\": \"string\",\n",
        "                      \"description\": \"Uma descrição individual de uma necessidade ou opção.\"\n",
        "                    }\n",
        "                  }\n",
        "                },\n",
        "                \"required\": [\n",
        "                  \"Categoria\",\n",
        "                  \"Necessidades\"\n",
        "                ]\n",
        "              }\n",
        "            }\n",
        "          },\n",
        "          \"required\": [\n",
        "            \"Tipo de Evento\",\n",
        "            \"Localização\",\n",
        "            \"Data\",\n",
        "            \"Horário\",\n",
        "            \"Número de Convidados\",\n",
        "            \"Elementos Essenciais\"\n",
        "          ]\n",
        "        }\n",
        "        \"\"\",\n",
        "        description=\"Agente que busca o que precisa \",\n",
        "        tools=[google_search]\n",
        "    )\n",
        "\n",
        "    entrada_do_agente_aux_adm = f\"Tipo de evento: {tipo_evento}\\nDetalhes do evento: {detalhes_evento}\"\n",
        "    # Executa o agente\n",
        "    plano_evento = call_agent(aux_adm, entrada_do_agente_aux_adm)\n",
        "    return plano_evento"
      ],
      "metadata": {
        "id": "y3VO1uo5_ghO"
      },
      "execution_count": 10,
      "outputs": []
    },
    {
      "cell_type": "code",
      "source": [
        "### teste o agente auxiliar administrativo\n",
        "# plano_evento = agente_aux_adm(tipo_evento, detalhes_evento)\n",
        "# print(\"\\n--- 📝 Resultado do auxiliar administrativo ---\\n\")\n",
        "# display(to_markdown(plano_evento))"
      ],
      "metadata": {
        "colab": {
          "base_uri": "https://localhost:8080/",
          "height": 1000
        },
        "id": "k83lHYlQ7N_t",
        "outputId": "b28e58d2-d65d-43f3-f658-8626eaea57b8"
      },
      "execution_count": 48,
      "outputs": [
        {
          "output_type": "stream",
          "name": "stdout",
          "text": [
            "\n",
            "--- 📝 Resultado do auxiliar administrativo ---\n",
            "\n"
          ]
        },
        {
          "output_type": "display_data",
          "data": {
            "text/plain": [
              "<IPython.core.display.Markdown object>"
            ],
            "text/markdown": "> ```json\n> {\n>   \"Tipo de Evento\": \"Casamento\",\n>   \"Localização\": \"Porto, Portugal\",\n>   \"Data\": \"18 de Julho de 2024\",\n>   \"Horário\": \"16:00\",\n>   \"Número de Convidados\": 150,\n>   \"Elementos Essenciais\": [\n>     {\n>       \"Categoria\": \"Local/Espaço para Casamento\",\n>       \"Necessidades\": [\n>         \"Salão de festas ou espaço ao ar livre que acomode 150 convidados [4, 6, 7]\",\n>         \"Opções de espaços com jardins [6]\",\n>         \"Espaços com serviços de catering [4]\",\n>         \"Espaços com opções de cerimónia civil [8, 17, 21]\"\n>       ]\n>     },\n>     {\n>       \"Categoria\": \"Catering\",\n>       \"Necessidades\": [\n>         \"Serviço de catering para 150 pessoas [2, 3]\",\n>         \"Opções de menu tradicional português e cozinha de autor [9]\",\n>         \"Bebidas (alcoólicas e não alcoólicas) [2]\",\n>         \"Aperitivos [2]\",\n>         \"Bolo de casamento [6]\"\n>       ]\n>     },\n>     {\n>       \"Categoria\": \"Decoração\",\n>       \"Necessidades\": [\n>         \"Decoração floral [20]\",\n>         \"Aluguer de mobiliário (mesas, cadeiras) [11, 12]\",\n>         \"Iluminação [11]\",\n>         \"Decoração personalizada [5, 11]\"\n>       ]\n>     },\n>     {\n>       \"Categoria\": \"Entretenimento\",\n>       \"Necessidades\": [\n>         \"DJ ou banda [2, 10]\",\n>         \"Espaço para dança [6]\"\n>       ]\n>     },\n>     {\n>       \"Categoria\": \"Serviços Adicionais\",\n>       \"Necessidades\": [\n>         \"Wedding Planner [8, 10]\",\n>         \"Aluguer de carro [19]\",\n>         \"Fotógrafo/Vídeo [4]\",\n>         \"Lembranças para os convidados [19]\"\n>       ]\n>     }\n>   ]\n> }\n> ```\n"
          },
          "metadata": {}
        }
      ]
    },
    {
      "cell_type": "code",
      "source": [
        "######################################\n",
        "# --- Agente 3: Analista de orçamentos --- #\n",
        "######################################\n",
        "def agente_analista_budget(tipo_evento, categoria, elemento_essencial):\n",
        "    analista_budget = Agent(\n",
        "        name=\"agente_analista_budget\",\n",
        "        model=MODEL_SIMPLES,\n",
        "        instruction=\"\"\"\n",
        "        Você é um analista de orçamentos especializado em uma categoria específica, como fazer orçamento para alugar locais ou orçamento para catering ou orçamento para contratar uma banda.\n",
        "        Sua função vai ser consultar na internet através da ferramenta de busca do google (google_search) para atender aos elementos essenciais do tipo de evento que lhe foram informados.\n",
        "        Busque 5 opções de orçamento para a sua categoria e escolha as 3 opções mais baratas.\n",
        "\n",
        "        Devolva a resposta em formato que pode ser utilizado com array do python e a saída deve conter estritamente apenas a estrutura de dados do python e que siga o JSON schema a seguir\n",
        "        {\n",
        "          \"$schema\": \"http://json-schema.org/draft-07/schema#\",\n",
        "          \"title\": \"Lista de Opções\",\n",
        "          \"description\": \"Schema para uma lista de opções, cada uma com nome, preço e características.\",\n",
        "          \"type\": \"array\",\n",
        "          \"items\": {\n",
        "            \"type\": \"object\",\n",
        "            \"properties\": {\n",
        "              \"Opção\": {\n",
        "                \"type\": \"string\",\n",
        "                \"description\": \"O nome ou título da opção.\"\n",
        "              },\n",
        "              \"Preço\": {\n",
        "                \"type\": \"string\",\n",
        "                \"description\": \"Informação sobre o preço da opção.\"\n",
        "              },\n",
        "              \"Características\": {\n",
        "                \"type\": \"array\",\n",
        "                \"description\": \"Uma lista de características associadas a esta opção.\",\n",
        "                \"items\": {\n",
        "                  \"type\": \"string\",\n",
        "                  \"description\": \"Uma descrição individual de uma característica.\"\n",
        "                }\n",
        "              }\n",
        "            },\n",
        "            \"required\": [\n",
        "              \"Opção\",\n",
        "              \"Preço\",\n",
        "              \"Características\"\n",
        "            ]\n",
        "          }\n",
        "        }\n",
        "        \"\"\",\n",
        "        description=\"Agente que atua como analista de orçamentos\",\n",
        "        tools=[google_search]\n",
        "    )\n",
        "    entrada_do_agente_analista_budget = f\"Tipo de evento: {tipo_evento}\\nCategoria Orçamento: {categoria}\\nElemento essencial: {elemento_essencial}\"\n",
        "    # Executa o agente\n",
        "    rascunho = call_agent(analista_budget, entrada_do_agente_analista_budget)\n",
        "    return rascunho"
      ],
      "metadata": {
        "id": "uOqlg2TRLVh1"
      },
      "execution_count": 11,
      "outputs": []
    },
    {
      "cell_type": "code",
      "source": [
        "### teste o agente analista de orçamento\n",
        "# import json\n",
        "# plano_object = json.loads(plano_evento.replace(\"```json\", \"\").replace(\"```\", \"\"))\n",
        "# budget = agente_analista_budget(tipo_evento, plano_object.get(\"Elementos Essenciais\")[0].get(\"Categoria\"), plano_object.get(\"Elementos Essenciais\")[0].get(\"Necessidades\"))\n",
        "# print(\"\\n--- 📝 Resultado do analista de orçamento ---\\n\")\n",
        "# display(to_markdown(budget))"
      ],
      "metadata": {
        "colab": {
          "base_uri": "https://localhost:8080/",
          "height": 601
        },
        "id": "VmJqAvhRYrSR",
        "outputId": "f1946414-ce2b-4866-ef03-03fd1d4706c2"
      },
      "execution_count": 59,
      "outputs": [
        {
          "output_type": "stream",
          "name": "stdout",
          "text": [
            "\n",
            "--- 📝 Resultado do analista de orçamento ---\n",
            "\n"
          ]
        },
        {
          "output_type": "display_data",
          "data": {
            "text/plain": [
              "<IPython.core.display.Markdown object>"
            ],
            "text/markdown": "> ```python\n> [\n>   {\n>     \"Opção\": \"Quinta LR Gardens\",\n>     \"Preço\": \"A partir de 74€ por pessoa\",\n>     \"Características\": [\n>       \"Acomoda de 50 a 240 convidados [4]\",\n>       \"Rodeada por beleza natural [4]\",\n>       \"Serviço de catering (Gémeos Catering) [4]\"\n>     ]\n>   },\n>   {\n>     \"Opção\": \"Quinta de Gatão\",\n>     \"Preço\": \"A partir de 85€ por pessoa\",\n>     \"Características\": [\n>       \"Acomoda de 50 a 120 convidados [3]\",\n>       \"Espaço com beleza e requinte [3]\",\n>       \"Hospedagem antes e depois do evento [3]\"\n>     ]\n>   },\n>   {\n>     \"Opção\": \"Casa dos Arcos Boavista\",\n>     \"Preço\": \"A partir de 100€ por pessoa\",\n>     \"Características\": [\n>       \"Acomoda de 70 a 250 convidados [4]\",\n>       \"Arquitetura imponente [4]\",\n>       \"Serviço de decoração à medida [4]\"\n>     ]\n>   }\n> ]\n> ```\n"
          },
          "metadata": {}
        }
      ]
    },
    {
      "cell_type": "code",
      "source": [
        "##########################################\n",
        "# --- Agente 4: Organizador do evento --- #\n",
        "##########################################\n",
        "\n",
        "def agente_organizador(tipo_evento, budgets):\n",
        "    organizador = Agent(\n",
        "        name=\"agente_organizador\",\n",
        "        model=MODEL_SIMPLES,\n",
        "        instruction=\"\"\"\n",
        "        Você é o organizador de um evento.\n",
        "        Sua função inicial será analisar os orçamentos recebidos (budgets) de diversas categorias e montar 3 planos bastante resumidos para apresentar ao cliente, citando o principalmente o valor de cada um deles.\n",
        "        \"\"\",\n",
        "        description=\"Agente organizador.\",\n",
        "    )\n",
        "    entrada_do_agente_organizador = f\"Tipo de evento: {tipo_evento}\\Lista de Orçamentos: {budgets}\\n\"\n",
        "    # Executa o agente\n",
        "    evento = call_agent(organizador, entrada_do_agente_organizador)\n",
        "    return evento"
      ],
      "metadata": {
        "id": "_aTb1SdkLeT6"
      },
      "execution_count": 12,
      "outputs": []
    },
    {
      "cell_type": "code",
      "source": [
        "def agente_atendente(tipo_evento, evento, msg):\n",
        "    atendente = Agent(\n",
        "        name=\"agente_atendente\",\n",
        "        model=MODEL_SIMPLES,\n",
        "        instruction=\"\"\"\n",
        "        Você é um atendente de um evento e irá conversar com o cliente sobre o evento informado.\n",
        "        Você irá receber um plano de evento (evento) e uma resposta do cliente (msg) e sempre deixará uma pergunta para o cliente até que ele confirme que está satisfeito com o evento.\n",
        "        \"\"\",\n",
        "        description=\"Agente atendente.\",\n",
        "    )\n",
        "    entrada_do_agente_atendente = f\"Tipo de evento: {tipo_evento}\\Evento: {evento}\\nResposta do cliente\"\n",
        "    # Executa o agente\n",
        "    resposta_atendente = call_agent(atendente, entrada_do_agente_atendente)\n",
        "    return resposta_atendente"
      ],
      "metadata": {
        "id": "7YJtVxiK2ZMw"
      },
      "execution_count": 13,
      "outputs": []
    },
    {
      "cell_type": "code",
      "source": [
        "### teste o agente analista de orçamento\n",
        "# plano_object = json.loads(plano_evento.replace(\"```json\", \"\").replace(\"```\", \"\"))\n",
        "# budgets = []\n",
        "# for elemento_essencial in plano_object.get(\"Elementos Essenciais\"):\n",
        "#   budget = agente_analista_budget(tipo_evento, elemento_essencial.get(\"Categoria\"), elemento_essencial.get(\"Necessidades\"))\n",
        "#   budgets.append(budget)\n",
        "# evento = agente_organizador(tipo_evento, budgets)\n",
        "# print(\"\\n--- 📝 Resultado do organizador do evento ---\\n\")\n",
        "# display(to_markdown(evento))"
      ],
      "metadata": {
        "colab": {
          "base_uri": "https://localhost:8080/",
          "height": 761
        },
        "id": "EK4kHM5skjns",
        "outputId": "dfe38ac8-a2a6-4838-fa4c-bf3023c3b2c6"
      },
      "execution_count": 61,
      "outputs": [
        {
          "output_type": "stream",
          "name": "stdout",
          "text": [
            "\n",
            "--- 📝 Resultado do organizador do evento ---\n",
            "\n"
          ]
        },
        {
          "output_type": "display_data",
          "data": {
            "text/plain": [
              "<IPython.core.display.Markdown object>"
            ],
            "text/markdown": "> Olá! Com base nos orçamentos que me forneceu, elaborei três planos distintos para o seu casamento no Porto. Os planos foram feitos para serem mais resumidos e informativos, se desejar mais detalhes sobre algum deles, basta perguntar!\n> \n> **Plano Essencial**\n> \n> *   **Local:** Agueiro (a partir de 30€ por convidado)\n> *   **Catering:** Spacegarden (€19,50 por pessoa)\n> *   **Decoração:** Florista Lina (a partir de 20€)\n> *   **Entretenimento:** DJ (350€ - 800€)\n> *   **Total Estimado:** Este plano foca no essencial, ideal para quem procura uma opção econômica sem abrir mão de um dia especial. O custo é bastante variável dependendo do número de convidados e das opções de DJ, mas podemos estimar algo entre 400€ - 900€, sem contar o preço do local por convidado.\n> \n> **Plano Elegância**\n> \n> *   **Local:** Restaurante Escondidinho Terrace (a partir de 85€ por convidado)\n> *   **Catering:** Dream Catering (a partir de 45€ por pessoa)\n> *   **Decoração:** Flores de Joaquim Santos (a partir de 35€)\n> *   **Entretenimento:** Banda Musical (690€)\n> *   **Serviços Adicionais:** Fotógrafo Casório (a partir de 490€)\n> \n> *   **Total Estimado:** Este plano oferece um toque de elegância e qualidade superior. O valor total do plano pode variar bastante também dependendo do número de convidados, mas podemos estimar um valor inicial a partir dos 1700€, sem contar o preço do local por convidado.\n> \n> **Plano Luxo**\n> \n> *   **Local:** Quinta da Morgadinha (a partir de 85€ por convidado)\n> *   **Catering:** MiliEventos Catering (preço variável, personalizável)\n> *   **Decoração:** Eventos Privé (a partir de 50€)\n> *   **Entretenimento:** Global Dança (desde 150€)\n> *   **Serviços Adicionais:**\n>     *   Wedding Planner Meraki (desde 400€)\n>     *   Aluguer de Carro Clássico (140€)\n>     *   Vídeo Meet My Porto (a partir de 600€)\n> \n> *   **Total Estimado:** Este plano representa o auge do luxo e personalização, com serviços adicionais para tornar o seu dia inesquecível. O valor total do plano pode variar bastante também dependendo do número de convidados, mas podemos estimar um valor inicial a partir dos 1300€, sem contar o preço do local por convidado.\n> \n> Espero que estas opções iniciais lhe deem uma boa perspetiva dos custos e possibilidades. Qual deles te agrada mais? Ou você gostaria de ajustar algo para adequar melhor ao seu orçamento ou preferências?\n"
          },
          "metadata": {}
        }
      ]
    },
    {
      "cell_type": "code",
      "source": [
        "def remover_conteudo_ate_substring(texto_completo, marcador_substring):\n",
        "  \"\"\"\n",
        "  Remove o conteúdo de uma string até encontrar um marcador_substring.\n",
        "\n",
        "  Args:\n",
        "    texto_completo: A string original.\n",
        "    marcador_substring: A substring que marca o ponto a partir do qual\n",
        "                        o conteúdo deve ser mantido.\n",
        "\n",
        "  Returns:\n",
        "    A parte da string original após o marcador_substring (incluindo o marcador,\n",
        "    se quiseres manter a partir dele, ou excluindo-o, como no exemplo).\n",
        "    Se o marcador não for encontrado, devolve a string original.\n",
        "  \"\"\"\n",
        "  posicao_marcador = texto_completo.find(marcador_substring)\n",
        "\n",
        "  # Verifica se o marcador foi encontrado\n",
        "  if posicao_marcador != -1:\n",
        "    # Calcula a posição onde a substring marcador termina\n",
        "    fim_marcador = posicao_marcador + len(marcador_substring)\n",
        "    # Retorna a parte da string após o marcador\n",
        "    return texto_completo[fim_marcador:]\n",
        "  else:\n",
        "    # Se o marcador não for encontrado, retorna a string original\n",
        "    # print(f\"Atenção: O marcador '{marcador_substring}' não foi encontrado na string.\")\n",
        "    return texto_completo\n"
      ],
      "metadata": {
        "id": "LCtSN59Q5pp3"
      },
      "execution_count": 14,
      "outputs": []
    },
    {
      "cell_type": "code",
      "source": [
        "print(\"🚀 Iniciando o Sistema de Criação de MVP com 4 Agentes 🚀\")\n",
        "\n",
        "# --- Obter o Tópico do Usuário ---\n",
        "tipo_evento = input(\"Olá, somos a Kreyzon Events, em que tipo de evento podemos ajudar? \")\n",
        "\n",
        "# Inserir lógica do sistema de agentes ################################################\n",
        "if not tipo_evento:\n",
        "    print(\"Você esqueceu de digitar o que quer!\")\n",
        "else:\n",
        "    print(f\"Maravilha! Vou falar com a equipe para lhe dar as melhores opções para seu evento.\")\n",
        "\n",
        "    detalhes_evento = agente_cliente(tipo_evento)\n",
        "    # trace flow\n",
        "    # print(\"\\n--- 📝 Resultado do cliente ---\\n\")\n",
        "    # display(to_markdown(detalhes_evento))\n",
        "    # print(\"--------------------------------------------------------------\")\n",
        "\n",
        "    plano_evento = agente_aux_adm(tipo_evento, detalhes_evento)\n",
        "    # trace flow\n",
        "    # print(\"\\n--- 📝 Resultado do Product Owner ---\\n\")\n",
        "    # display(to_markdown(plano_evento))\n",
        "    # print(\"--------------------------------------------------------------\")\n",
        "\n",
        "    # criação\n",
        "    plano_object = json.loads(remover_conteudo_ate_substring(plano_evento, \"```json\").replace(\"```json\", \"\").replace(\"```\", \"\"))\n",
        "    budgets = []\n",
        "    for elemento_essencial in plano_object.get(\"Elementos Essenciais\"):\n",
        "      budget = agente_analista_budget(tipo_evento, elemento_essencial.get(\"Categoria\"), elemento_essencial.get(\"Necessidades\"))\n",
        "      budgets.append(budget)\n",
        "\n",
        "    # trace flow\n",
        "    # print(\"\\n--- 📝 Resultado do Scrum Master ---\\n\")\n",
        "    # display(to_markdown(rascunho_de_post))\n",
        "    # print(\"--------------------------------------------------------------\")\n",
        "\n",
        "    evento = agente_organizador(tipo_evento, budgets)\n",
        "    print(\"\\n--- 📝 Resultado do Evento ---\\n\")\n",
        "    display(to_markdown(evento))\n",
        "    print(\"--------------------------------------------------------------\")\n",
        ""
      ],
      "metadata": {
        "colab": {
          "base_uri": "https://localhost:8080/",
          "height": 707
        },
        "id": "6xzI6LKzxxnN",
        "outputId": "0e7c05f4-1133-42ca-aa57-a014165128cf"
      },
      "execution_count": 16,
      "outputs": [
        {
          "output_type": "stream",
          "name": "stdout",
          "text": [
            "🚀 Iniciando o Sistema de Criação de MVP com 4 Agentes 🚀\n",
            "Olá, somos a Kreyzon Events, em que tipo de evento podemos ajudar? Festa de casamento em Braga, Portugal\n",
            "Maravilha! Vou falar com a equipe para lhe dar as melhores opções para seu evento.\n",
            "\n",
            "--- 📝 Resultado do Evento ---\n",
            "\n"
          ]
        },
        {
          "output_type": "display_data",
          "data": {
            "text/plain": [
              "<IPython.core.display.Markdown object>"
            ],
            "text/markdown": "> Com base nos orçamentos fornecidos, apresento 3 planos resumidos para o casamento em Braga:\n> \n> **Plano Económico:**\n> \n> *   **Local:** Quinta do Roque (30€ - 60€ por pessoa)\n> *   **Catering:** Nª Srª Do Carmo Catering (A partir de 45€ por pessoa)\n> *   **Bolo:** Pastelaria Caravela (A partir de 30€)\n> *   **DJ:** DJ para Eventos (OLX) (A partir de 25€)\n> *   **Fotografia/Vídeo:** Casório (A partir de 490€)\n> *   **Decoração:** Decoração Floral - Flores por Favor Atelier (A partir de 100€)\n> \n> **Preço Estimado:** Considerando um valor médio de 45€ por pessoa para o local e catering, e adicionando os outros serviços, este plano ficaria em torno de 5000€ para 100 convidados.\n> \n> **Plano Intermédio:**\n> \n> *   **Local:** Quinta dos Casais (A partir de 45€ por pessoa)\n> *   **Catering:** Tempero de Alegria (Entre 55€ e 95€ por pessoa)\n> *   **Bolo:** CáDoces (A partir de 50€)\n> *   **DJ:** Diogo Sousa DJ (Entre 150€ e 850€)\n> *   **Fotografia/Vídeo:** Cerfoto (A partir de 700€)\n> *   **Decoração:** Decoração Floral - Flores por Favor Atelier (A partir de 100€) e Iluminação Ambiente - Moments For You (A partir de 100€)\n> \n> **Preço Estimado:** Com um valor médio de 75€ por pessoa para o catering e um DJ de gama média, o plano ficaria em torno de 9000€ para 100 convidados.\n> \n> **Plano Premium:**\n> \n> *   **Local:** Quinta Vila Marita (Menus desde 115 EUR por pessoa)\n> *   **Catering:** Silva Carvalho Catering (Necessário pedir proposta)\n> *   **Bolo:** Neta da Avó Graça (A partir de 100€)\n> *   **DJ:** Dj Ricardo Silva (Sob Orçamento)\n> *   **Fotografia/Vídeo:** Studyo by Rui Ganga (A partir de 800€)\n> *   **Decoração:** Decoração Floral - Flores por Favor Atelier (A partir de 100€) e Iluminação Ambiente - Moments For You (A partir de 100€)\n> \n> **Preço Estimado:** Devido à necessidade de orçamentos personalizados para o catering e DJ, este plano é o mais difícil de estimar, mas provavelmente ultrapassará os 15000€ para 100 convidados.\n"
          },
          "metadata": {}
        },
        {
          "output_type": "stream",
          "name": "stdout",
          "text": [
            "--------------------------------------------------------------\n"
          ]
        }
      ]
    },
    {
      "cell_type": "code",
      "source": [
        "    msg = input(\"Você gostou de alguma das opções ou tem alguma dúvida sobre o evento? \")\n",
        "    while msg != 'fim':\n",
        "        resposta_atendente = agente_atendente(tipo_evento, evento, msg)\n",
        "        display(to_markdown(resposta_atendente))\n",
        "        print(\"--------------------------------------------------------------\")\n",
        "        msg = input()"
      ],
      "metadata": {
        "colab": {
          "base_uri": "https://localhost:8080/",
          "height": 132
        },
        "id": "Jc90_MwYxJfB",
        "outputId": "85f62ead-9efa-4b45-b2ee-930e79800013"
      },
      "execution_count": 18,
      "outputs": [
        {
          "name": "stdout",
          "output_type": "stream",
          "text": [
            "Você gostou de alguma das opções ou tem alguma dúvida sobre o evento? Fale sobre o segundo plano\n"
          ]
        },
        {
          "output_type": "display_data",
          "data": {
            "text/plain": [
              "<IPython.core.display.Markdown object>"
            ],
            "text/markdown": "> Olá! Estes planos parecem ótimos para um casamento em Braga. Qual dos três planos (Económico, Intermédio ou Premium) te agrada mais inicialmente, tendo em conta o teu orçamento e preferências?\n"
          },
          "metadata": {}
        },
        {
          "name": "stdout",
          "output_type": "stream",
          "text": [
            "--------------------------------------------------------------\n",
            "fim\n"
          ]
        }
      ]
    }
  ]
}